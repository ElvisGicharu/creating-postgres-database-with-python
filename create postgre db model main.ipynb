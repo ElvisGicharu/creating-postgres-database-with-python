{
 "cells": [
  {
   "cell_type": "code",
   "execution_count": 1,
   "id": "13c6bb97",
   "metadata": {},
   "outputs": [],
   "source": [
    "import psycopg2\n",
    "import pandas as pd"
   ]
  },
  {
   "cell_type": "code",
   "execution_count": null,
   "id": "9be811f3",
   "metadata": {},
   "outputs": [],
   "source": []
  },
  {
   "cell_type": "code",
   "execution_count": 2,
   "id": "da50335d",
   "metadata": {},
   "outputs": [],
   "source": [
    "def create_database():\n",
    "#     create connection\n",
    "    conn = psycopg2.connect(\"host=localhost dbname=postgres user=postgres password=postgres\")\n",
    "#     cursor\n",
    "    cur=conn.cursor()\n",
    "#     automatic commit\n",
    "    conn.set_session(autocommit=True)\n",
    "#     create db and drop if exists\n",
    "    cur.execute(\"DROP DATABASE IF EXISTS accounts\")\n",
    "    cur.execute(\"CREATE DATABASE accounts\")\n",
    "#     close connection\n",
    "    conn.close()\n",
    "    \n",
    "#     connect to new db\n",
    "    conn=psycopg2.connect(\"host=localhost dbname=accounts user=postgres password=postgres\")\n",
    "    cur=conn.cursor()\n",
    "    \n",
    "    return cur, conn\n",
    "    "
   ]
  },
  {
   "cell_type": "code",
   "execution_count": 3,
   "id": "a6a83ec5",
   "metadata": {},
   "outputs": [],
   "source": [
    "def drop_tables(cur,conn):\n",
    "    for query in drop_table_queries:\n",
    "        cur.execute(query)\n",
    "        conn.commit()"
   ]
  },
  {
   "cell_type": "code",
   "execution_count": 4,
   "id": "8f8790ab",
   "metadata": {},
   "outputs": [],
   "source": [
    "def create_tables(cur,conn):\n",
    "    for query in create_table_queries:\n",
    "        cur.execute(query)\n",
    "        conn.commit()\n",
    "        "
   ]
  },
  {
   "cell_type": "code",
   "execution_count": 5,
   "id": "6e790e73",
   "metadata": {},
   "outputs": [],
   "source": [
    "AccountsCountry=pd.read_csv('Datasets/Wealth-AccountsCountry.csv')\n",
    "# AccountsCountry.head()"
   ]
  },
  {
   "cell_type": "code",
   "execution_count": 6,
   "id": "9fbba3cc",
   "metadata": {},
   "outputs": [],
   "source": [
    "AccountsData=pd.read_csv('Datasets/Wealth-AccountData.csv')\n",
    "# AccountsData.head()"
   ]
  },
  {
   "cell_type": "code",
   "execution_count": 7,
   "id": "5e24ff3d",
   "metadata": {
    "scrolled": true
   },
   "outputs": [],
   "source": [
    "AccountSeries=pd.read_csv('Datasets/Wealth-AccountSeries.csv')\n",
    "# AccountSeries.head()"
   ]
  },
  {
   "cell_type": "code",
   "execution_count": 8,
   "id": "98573509",
   "metadata": {},
   "outputs": [],
   "source": [
    "AccountsCountry=AccountsCountry[['Code','Short Name','Table Name','Long Name','Currency Unit']]\n",
    "# AccountsCountry.head()"
   ]
  },
  {
   "cell_type": "code",
   "execution_count": 9,
   "id": "485775e2",
   "metadata": {},
   "outputs": [],
   "source": [
    "AccountSeries=AccountSeries[['Code','Topic','Indicator Name']]"
   ]
  },
  {
   "cell_type": "code",
   "execution_count": 10,
   "id": "239a25aa",
   "metadata": {},
   "outputs": [],
   "source": [
    "cur, conn= create_database()"
   ]
  },
  {
   "cell_type": "code",
   "execution_count": 11,
   "id": "6dfc90f6",
   "metadata": {},
   "outputs": [],
   "source": [
    "# CREATE TABLES\n",
    "accountscountry_table_create=(\"\"\"CREATE TABLE IF NOT EXISTS accountscountry(\n",
    "code VARCHAR,\n",
    "short_name  VARCHAR,\n",
    "table_name VARCHAR,\n",
    "long_name VARCHAR,\n",
    "currency_unit VARCHAR\n",
    ")\"\"\")"
   ]
  },
  {
   "cell_type": "code",
   "execution_count": 12,
   "id": "3a5d89a8",
   "metadata": {},
   "outputs": [],
   "source": [
    "cur.execute(accountscountry_table_create)\n",
    "conn.commit()"
   ]
  },
  {
   "cell_type": "code",
   "execution_count": 13,
   "id": "cf3dd12d",
   "metadata": {},
   "outputs": [],
   "source": [
    "accountseries_table_create=(\"\"\"CREATE TABLE IF NOT EXISTS accountseries(\n",
    "code VARCHAR PRIMARY KEY,\n",
    "topic VARCHAR,\n",
    "indicator_name VARCHAR)\"\"\")"
   ]
  },
  {
   "cell_type": "code",
   "execution_count": 14,
   "id": "19cf37d3",
   "metadata": {},
   "outputs": [],
   "source": [
    "cur.execute(accountseries_table_create)\n",
    "conn.commit()"
   ]
  },
  {
   "cell_type": "code",
   "execution_count": 15,
   "id": "e9ad70f7",
   "metadata": {},
   "outputs": [],
   "source": [
    "accountsdata_table_create=(\"\"\"CREATE TABLE IF NOT EXISTS accountsdata(\n",
    "country_name VARCHAR,\n",
    "country_code VARCHAR,\n",
    "series_name VARCHAR,\n",
    "year_1995 NUMERIC,\n",
    "year_2000 numeric,\n",
    "year_2005 numeric,\n",
    "year_2010 numeric,\n",
    "year_2015 numeric\n",
    ")\"\"\")"
   ]
  },
  {
   "cell_type": "code",
   "execution_count": 16,
   "id": "593c45fd",
   "metadata": {},
   "outputs": [],
   "source": [
    "cur.execute(accountsdata_table_create)\n",
    "conn.commit()"
   ]
  },
  {
   "cell_type": "code",
   "execution_count": 17,
   "id": "f385dcb6",
   "metadata": {},
   "outputs": [],
   "source": [
    "# INSERT DATA\n",
    "accountscountry_table_insert=(\"\"\"INSERT INTO accountscountry(\n",
    "code,\n",
    "short_name,\n",
    "table_name,\n",
    "long_name,\n",
    "currency_unit)\n",
    "VALUES($s,%s,%s,%s,%s)\n",
    "\"\"\")"
   ]
  },
  {
   "cell_type": "code",
   "execution_count": 18,
   "id": "f5e6c612",
   "metadata": {},
   "outputs": [
    {
     "ename": "TypeError",
     "evalue": "not all arguments converted during string formatting",
     "output_type": "error",
     "traceback": [
      "\u001b[1;31m---------------------------------------------------------------------------\u001b[0m",
      "\u001b[1;31mTypeError\u001b[0m                                 Traceback (most recent call last)",
      "Cell \u001b[1;32mIn[18], line 2\u001b[0m\n\u001b[0;32m      1\u001b[0m \u001b[38;5;28;01mfor\u001b[39;00m i, row \u001b[38;5;129;01min\u001b[39;00m AccountsCountry\u001b[38;5;241m.\u001b[39miterrows():\n\u001b[1;32m----> 2\u001b[0m     \u001b[43mcur\u001b[49m\u001b[38;5;241;43m.\u001b[39;49m\u001b[43mexecute\u001b[49m\u001b[43m(\u001b[49m\u001b[43maccountscountry_table_insert\u001b[49m\u001b[43m,\u001b[49m\u001b[43m \u001b[49m\u001b[38;5;28;43mlist\u001b[39;49m\u001b[43m(\u001b[49m\u001b[43mrow\u001b[49m\u001b[43m)\u001b[49m\u001b[43m)\u001b[49m\n",
      "\u001b[1;31mTypeError\u001b[0m: not all arguments converted during string formatting"
     ]
    }
   ],
   "source": [
    "for i, row in AccountsCountry.iterrows():\n",
    "    cur.execute(accountscountry_table_insert, list(row))"
   ]
  },
  {
   "cell_type": "code",
   "execution_count": null,
   "id": "d3de752c",
   "metadata": {},
   "outputs": [],
   "source": [
    "accountseries_table_insert=(\"\"\"INSERT INTO accountseries(\n",
    "code,\n",
    "topic,\n",
    "indicator_name)VALUES(%s,%s,%s)\n",
    "\"\"\")"
   ]
  },
  {
   "cell_type": "code",
   "execution_count": null,
   "id": "c5581edd",
   "metadata": {},
   "outputs": [],
   "source": [
    "for i, row in AccountSeries.iterrows():\n",
    "    cur.execute(accountseries_table_insert,list(row))"
   ]
  },
  {
   "cell_type": "code",
   "execution_count": null,
   "id": "30eaa653",
   "metadata": {},
   "outputs": [],
   "source": [
    "accountsdata_table_insert=(\"\"\"INSERT INTO accountsdata(\n",
    "country_name,\n",
    "country_code,\n",
    "series_name,\n",
    "year_1995,\n",
    "year_2000,\n",
    "year_2005,\n",
    "year_2010,\n",
    "year_2015)\n",
    "VALUES(%s,%s,%s,%s,%s,%s,%s,%s)\"\"\")"
   ]
  },
  {
   "cell_type": "code",
   "execution_count": null,
   "id": "f30c758d",
   "metadata": {},
   "outputs": [],
   "source": [
    "for i, row in AccountsData.iterrows():\n",
    "    cur.execute(accountsdata_table_insert, list(row))"
   ]
  },
  {
   "cell_type": "code",
   "execution_count": null,
   "id": "424727f2",
   "metadata": {},
   "outputs": [],
   "source": []
  }
 ],
 "metadata": {
  "kernelspec": {
   "display_name": "Python 3 (ipykernel)",
   "language": "python",
   "name": "python3"
  },
  "language_info": {
   "codemirror_mode": {
    "name": "ipython",
    "version": 3
   },
   "file_extension": ".py",
   "mimetype": "text/x-python",
   "name": "python",
   "nbconvert_exporter": "python",
   "pygments_lexer": "ipython3",
   "version": "3.10.9"
  }
 },
 "nbformat": 4,
 "nbformat_minor": 5
}
