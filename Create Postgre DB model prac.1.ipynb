{
 "cells": [
  {
   "cell_type": "code",
   "execution_count": 3,
   "id": "9019ae4c",
   "metadata": {},
   "outputs": [
    {
     "name": "stdout",
     "output_type": "stream",
     "text": [
      "Requirement already satisfied: pyscopg2 in c:\\users\\elvis\\anaconda3\\lib\\site-packages (66.0.2)\n"
     ]
    }
   ],
   "source": [
    "# !pip install pyscopg2"
   ]
  },
  {
   "cell_type": "code",
   "execution_count": 7,
   "id": "eb9f5499",
   "metadata": {},
   "outputs": [],
   "source": [
    "import psycopg2"
   ]
  },
  {
   "cell_type": "code",
   "execution_count": 13,
   "id": "ea3bfef2",
   "metadata": {},
   "outputs": [],
   "source": [
    "# Creating the connection to DB\n",
    "try:\n",
    "    conn=psycopg2.connect(\"host=localhost dbname=postgres user=postgres password=postgres\")\n",
    "except psycopg2.Error as e:\n",
    "    print(\"Error: Could not make a connection to the Postgres Database\")\n",
    "    print(e)"
   ]
  },
  {
   "cell_type": "code",
   "execution_count": 17,
   "id": "8cb69e7a",
   "metadata": {},
   "outputs": [],
   "source": [
    "# Cursor creation..... Helps execute queries to DB\n",
    "try:\n",
    "    cur=conn.cursor()\n",
    "except psycopg2.Error as e:\n",
    "    print(\"Error: Could not get cursor to DB\")\n",
    "    print(e)"
   ]
  },
  {
   "cell_type": "code",
   "execution_count": 18,
   "id": "fb7933bf",
   "metadata": {},
   "outputs": [],
   "source": [
    "# set automatic commit to true.... each action is committed without having to call conn.commit() after the commands\n",
    "conn.set_session(autocommit=True)"
   ]
  },
  {
   "cell_type": "code",
   "execution_count": 19,
   "id": "0aca71ab",
   "metadata": {},
   "outputs": [],
   "source": [
    "#  Create database\n",
    "try:\n",
    "    cur.execute(\"create database myfirstdb\")\n",
    "except psycopg2.Error as e:\n",
    "    print(e)\n",
    "    \n",
    "# to see db:\n",
    "# \\l"
   ]
  },
  {
   "cell_type": "code",
   "execution_count": 21,
   "id": "81359cb7",
   "metadata": {},
   "outputs": [],
   "source": [
    "#  now we have to close connection with postgres DB and create connection with myfirstdb DB\n",
    "\n",
    "# close connection\n",
    "try:\n",
    "    conn.close()\n",
    "except pyscopg2.Error as e:\n",
    "    print(e)\n",
    "    \n",
    "# create connection with myfirstdb\n",
    "try:\n",
    "    conn=psycopg2.connect(\"host=localhost dbname=myfirstdb user=postgres password=postgres\")\n",
    "except psycopg2.Error as e:\n",
    "        print(\"Error: Could not make a connection to the myfirstdb Database\")\n",
    "        print(e)\n",
    "        \n",
    "#  cursor creation\n",
    "try:\n",
    "    cur=conn.cursor()\n",
    "except psycopg2.Error as e:\n",
    "        print(\"Error: Could not get cursor to DB\")\n",
    "        print(e)\n",
    "        \n",
    "# automatic commit\n",
    "conn.set_session(autocommit=True)"
   ]
  },
  {
   "cell_type": "code",
   "execution_count": 28,
   "id": "9b017e76",
   "metadata": {},
   "outputs": [],
   "source": [
    "# create table which will include:\n",
    "# student_id,name,age,gender,subject,marks\n",
    "try:\n",
    "    cur.execute(\"CREATE TABLE IF NOT EXISTS students(student_id int,name varchar,age int,gender varchar,\\\n",
    "    subject varchar,marks int);\")\n",
    "except psycopg2.Error as e:\n",
    "        print(\"Error: Issues creating table\")\n",
    "        print(e)\n",
    "\n",
    "#                  used \\ to go to next line\n",
    "# to see tables:\n",
    "# connect to database..... \\c myfirstdb\n",
    "# display tables..... \\dt"
   ]
  },
  {
   "cell_type": "code",
   "execution_count": 33,
   "id": "184b90dc",
   "metadata": {},
   "outputs": [],
   "source": [
    "# insert data to tables\n",
    "try:\n",
    "    cur.execute(\"INSERT INTO students(student_id,name,age,gender,subject,marks)\\\n",
    "    VALUES(%s,%s,%s,%s,%s,%s)\"\n",
    "                ,(1, 'Elvis Gicharu', 22, 'Male','Python',90))\n",
    "except psycopg2.Error as e:\n",
    "    print(\"Error: Inserting rows\")\n",
    "    print(e)\n",
    "    \n",
    "try:\n",
    "    cur.execute(\"INSERT INTO students(student_id,name,age,gender,subject,marks)\\\n",
    "    VALUES(%s,%s,%s,%s,%s,%s)\",\n",
    "               (2,'Nixon Muhia',25,'Male','Pascal', 100))\n",
    "except psycopg2.Error as e:\n",
    "    print(\"Error: Inserting rows\")\n",
    "    print(e)\n",
    "    "
   ]
  },
  {
   "cell_type": "code",
   "execution_count": 34,
   "id": "51d9e524",
   "metadata": {},
   "outputs": [
    {
     "name": "stdout",
     "output_type": "stream",
     "text": [
      "(2, 'Nixon Muhia', 25, 'Male', 'Pascal', 100)\n",
      "(1, 'Elvis Gicharu', 22, 'Male', 'Python', 90)\n",
      "(2, 'Nixon Muhia', 25, 'Male', 'Pascal', 100)\n",
      "(1, 'Elvis Gicharu', 22, 'Male', 'Python', 90)\n",
      "(2, 'Nixon Muhia', 25, 'Male', 'Pascal', 100)\n"
     ]
    }
   ],
   "source": [
    "# validate executed data\n",
    "try:\n",
    "    cur.execute('SELECT * FROM students')\n",
    "except pyscopg2.Error as e:\n",
    "    print('Error: Cant Select')\n",
    "    print(e)\n",
    "row=cur.fetchone()\n",
    "while row:\n",
    "    print(row)\n",
    "    row=cur.fetchone()"
   ]
  },
  {
   "cell_type": "code",
   "execution_count": null,
   "id": "1b66ca4b",
   "metadata": {},
   "outputs": [],
   "source": [
    "# finally close cursor & connection\n",
    "cur.close()\n",
    "conn.close()\n"
   ]
  },
  {
   "cell_type": "code",
   "execution_count": null,
   "id": "8a75444a",
   "metadata": {},
   "outputs": [],
   "source": []
  }
 ],
 "metadata": {
  "kernelspec": {
   "display_name": "Python 3 (ipykernel)",
   "language": "python",
   "name": "python3"
  },
  "language_info": {
   "codemirror_mode": {
    "name": "ipython",
    "version": 3
   },
   "file_extension": ".py",
   "mimetype": "text/x-python",
   "name": "python",
   "nbconvert_exporter": "python",
   "pygments_lexer": "ipython3",
   "version": "3.10.9"
  }
 },
 "nbformat": 4,
 "nbformat_minor": 5
}
